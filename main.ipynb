{
 "cells": [
  {
   "cell_type": "code",
   "execution_count": 76,
   "metadata": {},
   "outputs": [
    {
     "name": "stdout",
     "output_type": "stream",
     "text": [
      "lumiere.csv created\n",
      "localisation.csv created\n",
      "intersection.csv created\n",
      "conditions_atmospheriques.csv created\n",
      "collision.csv created\n",
      "categorie_de_route.csv created\n",
      "regime_de_circulation.csv created\n",
      "vosp.csv created\n",
      "prof.csv created\n",
      "trace_en_plan.csv created\n",
      "etat_de_la_surface_.csv created\n",
      "infrastructure.csv created\n",
      "situation_accident.csv created\n",
      "sens_de_circulation.csv created\n"
     ]
    },
    {
     "ename": "IndexError",
     "evalue": "list index out of range",
     "output_type": "error",
     "traceback": [
      "\u001b[1;31m---------------------------------------------------------------------------\u001b[0m",
      "\u001b[1;31mIndexError\u001b[0m                                Traceback (most recent call last)",
      "\u001b[1;32me:\\Sorbonne\\GenieLogiciel\\ProjetGestionDeBasesDeDonnees\\main.ipynb Cell 1\u001b[0m line \u001b[0;36m9\n\u001b[0;32m     <a href='vscode-notebook-cell:/e%3A/Sorbonne/GenieLogiciel/ProjetGestionDeBasesDeDonnees/main.ipynb#W0sZmlsZQ%3D%3D?line=91'>92</a>\u001b[0m \u001b[39melse\u001b[39;00m:\n\u001b[0;32m     <a href='vscode-notebook-cell:/e%3A/Sorbonne/GenieLogiciel/ProjetGestionDeBasesDeDonnees/main.ipynb#W0sZmlsZQ%3D%3D?line=92'>93</a>\u001b[0m     \u001b[39mif\u001b[39;00m line[\u001b[39m0\u001b[39m] \u001b[39m==\u001b[39m \u001b[39m'\u001b[39m\u001b[39m-\u001b[39m\u001b[39m'\u001b[39m \u001b[39mand\u001b[39;00m line[\u001b[39m1\u001b[39m] \u001b[39m!=\u001b[39m \u001b[39m'\u001b[39m\u001b[39m1\u001b[39m\u001b[39m'\u001b[39m:\n\u001b[0;32m     <a href='vscode-notebook-cell:/e%3A/Sorbonne/GenieLogiciel/ProjetGestionDeBasesDeDonnees/main.ipynb#W0sZmlsZQ%3D%3D?line=93'>94</a>\u001b[0m \n\u001b[0;32m     <a href='vscode-notebook-cell:/e%3A/Sorbonne/GenieLogiciel/ProjetGestionDeBasesDeDonnees/main.ipynb#W0sZmlsZQ%3D%3D?line=94'>95</a>\u001b[0m         \u001b[39m#print(treat_text(line))\u001b[39;00m\n\u001b[1;32m---> <a href='vscode-notebook-cell:/e%3A/Sorbonne/GenieLogiciel/ProjetGestionDeBasesDeDonnees/main.ipynb#W0sZmlsZQ%3D%3D?line=95'>96</a>\u001b[0m         fill_in_cvs(chunk) \u001b[39mif\u001b[39;00m chunk \u001b[39m!=\u001b[39m \u001b[39m\"\u001b[39m\u001b[39m\"\u001b[39m \u001b[39melse\u001b[39;00m \u001b[39mNone\u001b[39;00m\n\u001b[0;32m     <a href='vscode-notebook-cell:/e%3A/Sorbonne/GenieLogiciel/ProjetGestionDeBasesDeDonnees/main.ipynb#W0sZmlsZQ%3D%3D?line=96'>97</a>\u001b[0m         i \u001b[39m+\u001b[39m\u001b[39m=\u001b[39m \u001b[39m1\u001b[39m\n\u001b[0;32m     <a href='vscode-notebook-cell:/e%3A/Sorbonne/GenieLogiciel/ProjetGestionDeBasesDeDonnees/main.ipynb#W0sZmlsZQ%3D%3D?line=97'>98</a>\u001b[0m         chunk\u001b[39m=\u001b[39m \u001b[39m\"\u001b[39m\u001b[39m\"\u001b[39m\n",
      "\u001b[1;32me:\\Sorbonne\\GenieLogiciel\\ProjetGestionDeBasesDeDonnees\\main.ipynb Cell 1\u001b[0m line \u001b[0;36m4\n\u001b[0;32m     <a href='vscode-notebook-cell:/e%3A/Sorbonne/GenieLogiciel/ProjetGestionDeBasesDeDonnees/main.ipynb#W0sZmlsZQ%3D%3D?line=45'>46</a>\u001b[0m         \u001b[39mif\u001b[39;00m id_signification \u001b[39m!=\u001b[39m [\u001b[39m'\u001b[39m\u001b[39m'\u001b[39m]:\n\u001b[0;32m     <a href='vscode-notebook-cell:/e%3A/Sorbonne/GenieLogiciel/ProjetGestionDeBasesDeDonnees/main.ipynb#W0sZmlsZQ%3D%3D?line=46'>47</a>\u001b[0m             \u001b[39mid\u001b[39m \u001b[39m=\u001b[39m id_signification[\u001b[39m0\u001b[39m]\n\u001b[1;32m---> <a href='vscode-notebook-cell:/e%3A/Sorbonne/GenieLogiciel/ProjetGestionDeBasesDeDonnees/main.ipynb#W0sZmlsZQ%3D%3D?line=47'>48</a>\u001b[0m             signification \u001b[39m=\u001b[39m id_signification[\u001b[39m1\u001b[39;49m]\n\u001b[0;32m     <a href='vscode-notebook-cell:/e%3A/Sorbonne/GenieLogiciel/ProjetGestionDeBasesDeDonnees/main.ipynb#W0sZmlsZQ%3D%3D?line=48'>49</a>\u001b[0m             csv\u001b[39m.\u001b[39mwriter(file, dialect\u001b[39m=\u001b[39m\u001b[39m'\u001b[39m\u001b[39mexcel\u001b[39m\u001b[39m'\u001b[39m, delimiter\u001b[39m=\u001b[39m\u001b[39m'\u001b[39m\u001b[39m;\u001b[39m\u001b[39m'\u001b[39m)\u001b[39m.\u001b[39mwriterow([\u001b[39mid\u001b[39m, signification])\n\u001b[0;32m     <a href='vscode-notebook-cell:/e%3A/Sorbonne/GenieLogiciel/ProjetGestionDeBasesDeDonnees/main.ipynb#W0sZmlsZQ%3D%3D?line=50'>51</a>\u001b[0m \u001b[39mprint\u001b[39m(\u001b[39mf\u001b[39m\u001b[39m\"\u001b[39m\u001b[39m{\u001b[39;00mtitle\u001b[39m}\u001b[39;00m\u001b[39m.csv created\u001b[39m\u001b[39m\"\u001b[39m)   \n",
      "\u001b[1;31mIndexError\u001b[0m: list index out of range"
     ]
    }
   ],
   "source": [
    "import csv\n",
    "\n",
    "def treat_text(text): \n",
    "    #remove french accents\n",
    "    text = text.replace('é', 'e')\n",
    "    text = text.replace('è', 'e')\n",
    "    text = text.replace('ê', 'e')\n",
    "    text = text.replace('à', 'a')\n",
    "    text = text.replace('â', 'a')\n",
    "    text = text.replace('î', 'i')\n",
    "    text = text.replace('ï', 'i')\n",
    "    text = text.replace('ô', 'o')\n",
    "\n",
    "    #remove punctuation\n",
    "    text = text.replace('.', '')\n",
    "    text = text.replace(',', '')\n",
    "    text = text.replace(';', '')\n",
    "    text = text.replace(':', '')\n",
    "    text = text.replace('!', '')\n",
    "    text = text.replace('-', '')\n",
    "\n",
    "\n",
    "    #remove capital letters\n",
    "    text = text.lower()\n",
    "\n",
    "    text= text.replace(\" \", \"_\")\n",
    "\n",
    "    return text[1:]\n",
    "\n",
    "\n",
    "def fill_in_cvs(chunk):\n",
    "    line_array= chunk.split('\\n')\n",
    "    title = treat_text(line_array[0])\n",
    "    with open(f\"{title}.csv\", 'w') as file:\n",
    "        csv.writer(file, dialect='excel', delimiter=';').writerow(['id', 'signification'])\n",
    "        \n",
    "\n",
    "        for x in line_array[1:]:\n",
    "            id_signification = x.split(' – ')\n",
    "            \n",
    "            if id_signification != ['']:\n",
    "                id = id_signification[0]\n",
    "                signification = id_signification[1]\n",
    "                csv.writer(file, dialect='excel', delimiter=';').writerow([id, signification])\n",
    "\n",
    "    print(f\"{title}.csv created\")   \n",
    "    file.close()\n",
    "    \n",
    "\n",
    "\n",
    "chunk = \"\"\n",
    "i = 0 \n",
    "\n",
    "with open(\"data/ExtraTables.txt\") as f:\n",
    "\n",
    "    for line in f:\n",
    "        if not line.strip():\n",
    "            # create new csv file\n",
    "            pass\n",
    "        else:\n",
    "            if line[0] == '-' and line[1] != '1':\n",
    "\n",
    "                #print(treat_text(line))\n",
    "                fill_in_cvs(chunk) if chunk != \"\" else None\n",
    "                i += 1\n",
    "                chunk= \"\"\n",
    "            chunk += line      \n",
    "\n",
    "           "
   ]
  },
  {
   "cell_type": "code",
   "execution_count": null,
   "metadata": {},
   "outputs": [],
   "source": []
  },
  {
   "cell_type": "code",
   "execution_count": null,
   "metadata": {},
   "outputs": [],
   "source": []
  }
 ],
 "metadata": {
  "kernelspec": {
   "display_name": "mysql",
   "language": "python",
   "name": "python3"
  },
  "language_info": {
   "codemirror_mode": {
    "name": "ipython",
    "version": 3
   },
   "file_extension": ".py",
   "mimetype": "text/x-python",
   "name": "python",
   "nbconvert_exporter": "python",
   "pygments_lexer": "ipython3",
   "version": "3.10.13"
  }
 },
 "nbformat": 4,
 "nbformat_minor": 2
}
